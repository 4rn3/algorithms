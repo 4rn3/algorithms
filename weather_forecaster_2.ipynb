{
  "nbformat": 4,
  "nbformat_minor": 0,
  "metadata": {
    "colab": {
      "name": "weather_forecaster_2",
      "provenance": [],
      "collapsed_sections": [],
      "authorship_tag": "ABX9TyO4PN1YBJAaAZ0nDyPQLr9e",
      "include_colab_link": true
    },
    "kernelspec": {
      "name": "python3",
      "display_name": "Python 3"
    },
    "language_info": {
      "name": "python"
    }
  },
  "cells": [
    {
      "cell_type": "markdown",
      "metadata": {
        "id": "view-in-github",
        "colab_type": "text"
      },
      "source": [
        "<a href=\"https://colab.research.google.com/github/4rn3/algorithms/blob/main/weather_forecaster_2.ipynb\" target=\"_parent\"><img src=\"https://colab.research.google.com/assets/colab-badge.svg\" alt=\"Open In Colab\"/></a>"
      ]
    },
    {
      "cell_type": "markdown",
      "metadata": {
        "id": "KdF08EPXoQVG"
      },
      "source": [
        "# Weather forecast model 2.0\n",
        "### I'll try to make a model that based on a meteovista dataset predicts the temperature and percipation"
      ]
    },
    {
      "cell_type": "code",
      "metadata": {
        "id": "raL2Xd1Nonq9"
      },
      "source": [
        ""
      ],
      "execution_count": null,
      "outputs": []
    }
  ]
}